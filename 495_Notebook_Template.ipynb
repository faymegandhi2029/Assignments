{
  "nbformat": 4,
  "nbformat_minor": 0,
  "metadata": {
    "colab": {
      "provenance": [],
      "collapsed_sections": [
        "qVaFYK5pO0qw",
        "YeWj1kZJWHaP"
      ],
      "authorship_tag": "ABX9TyPuLPmFSSDwvbYD8fbs12z7",
      "include_colab_link": true
    },
    "kernelspec": {
      "name": "python3",
      "display_name": "Python 3"
    },
    "language_info": {
      "name": "python"
    }
  },
  "cells": [
    {
      "cell_type": "markdown",
      "metadata": {
        "id": "view-in-github",
        "colab_type": "text"
      },
      "source": [
        "<a href=\"https://colab.research.google.com/github/MatSci495/Assignments/blob/main/495_Notebook_Template.ipynb\" target=\"_parent\"><img src=\"https://colab.research.google.com/assets/colab-badge.svg\" alt=\"Open In Colab\"/></a>"
      ]
    },
    {
      "cell_type": "markdown",
      "source": [
        "# BACKGROUND\n",
        "\n",
        "Here provide background on the analysis conducted in the notebook, beginning with your **Problem Statement** The audience is a second year graduate student who is generally familiar with the research and methods but is not yet an expert practitioner. Think about what you have found useful or would find useful. In the sub-sections below, include links to:\n",
        "\n",
        "*   Documentation of measurement methods.\n",
        "*   Prior work (publications or internal documents) that inform the analysis, such as the models being tested.\n",
        "*   Links to programming/analysis resources, such as documentation for more specialized libraries.\n"
      ],
      "metadata": {
        "id": "nusmUXHLw1vX"
      }
    },
    {
      "cell_type": "markdown",
      "source": [
        "## Problem Statement\n",
        "Here include the final version of your problem statement. It is expected that your problem statement will be refined over the quarter."
      ],
      "metadata": {
        "id": "OjtEHT-a8b3K"
      }
    },
    {
      "cell_type": "markdown",
      "source": [
        "## Prior Work"
      ],
      "metadata": {
        "id": "72HuIZfi8m7m"
      }
    },
    {
      "cell_type": "markdown",
      "source": [
        "## Approach to Analysis"
      ],
      "metadata": {
        "id": "JM96YRpM8ti1"
      }
    },
    {
      "cell_type": "markdown",
      "source": [
        "# LOAD LIBRARIES\n",
        "\n",
        "Import all libraries needed for the notebook here. Provide brief comments on how they are used in the notebook. Provide a link to documentation for more specialized libraries."
      ],
      "metadata": {
        "id": "qVaFYK5pO0qw"
      }
    },
    {
      "cell_type": "markdown",
      "source": [
        "## Code"
      ],
      "metadata": {
        "id": "SRpzjb2K9B-K"
      }
    },
    {
      "cell_type": "code",
      "source": [
        "import numpy as np;\n",
        "import matplotlib.pyplot as plt;\n"
      ],
      "metadata": {
        "id": "IRMXmdmNVksU"
      },
      "execution_count": null,
      "outputs": []
    },
    {
      "cell_type": "markdown",
      "source": [
        "## Library Comments"
      ],
      "metadata": {
        "id": "nbFUKsHb9Eqf"
      }
    },
    {
      "cell_type": "markdown",
      "source": [
        "# IMPORT DATA\n",
        "\n",
        "Data are imported in this section from GitHub (to enable evaluation by the instructor and class members).\n",
        "\n",
        "**Class assignments** related to the building of this section include:\n",
        "*   Data file formatting\n",
        "*   Loading data"
      ],
      "metadata": {
        "id": "YeWj1kZJWHaP"
      }
    },
    {
      "cell_type": "markdown",
      "source": [
        "## Data Import Code"
      ],
      "metadata": {
        "id": "tS7SFM6E9NQO"
      }
    },
    {
      "cell_type": "code",
      "source": [
        "# Note- include commenting on how metadata are handled within the data import block."
      ],
      "metadata": {
        "id": "sEjnyWhv9SQk"
      },
      "execution_count": null,
      "outputs": []
    },
    {
      "cell_type": "markdown",
      "source": [
        "## Description of Approach\n",
        "To complement the comments in the code block, here provide a readable description of your approach and justification for the decisions you made in handling the data."
      ],
      "metadata": {
        "id": "vMwGDWWx9W9I"
      }
    },
    {
      "cell_type": "markdown",
      "source": [
        "# DATA CONDITIONING AND EXPLORATION\n",
        "\n",
        "In this section, carry out data cleaning and formatting necessary for the **Model Fitting and Hypothesis Testing** section. As approriate, develop hypotheses or test initial hypotheses via plotting and visualization to empirically explore mathematical relationships. Document how you refined your methods, i.e. document what approaches were tried and rejected or accepted and why so that others can learn from what did not work. Note that the sub-sections are iterative. For example, data visualization may lead to the identification of outliers that are then removed from the data.\n",
        "\n",
        "**Class assignments** related to the building of this section include:\n",
        "\n",
        "*   Data visualization with background subtraction\n",
        "*   Analysis plan\n",
        "\n"
      ],
      "metadata": {
        "id": "lm8k4ozAWk1U"
      }
    },
    {
      "cell_type": "markdown",
      "source": [
        "## Data Cleaning and Conditioning"
      ],
      "metadata": {
        "id": "Q0rXxiZN0uFG"
      }
    },
    {
      "cell_type": "markdown",
      "source": [
        "## Data Exploration and Visualization"
      ],
      "metadata": {
        "id": "T1TusMm50xn3"
      }
    },
    {
      "cell_type": "markdown",
      "source": [
        "# MODEL FITTING AND HYPOTHESIS TESTING\n",
        "\n",
        "This section quantitatively compares expectations of a model with trends in the data. It will include measures of goodness of fit including confidence intervals when appropriate. References to the models being considered should be provided in the **BACKGROUND** section. Use sub-sections to show the interative refinement of your approach, i.e. do not simply include the final \"best fit\", but document at least one analysis approach or model that was considered less optimal.\n",
        "\n",
        "*   Approaches to Background Fitting (Lecture)"
      ],
      "metadata": {
        "id": "o5oZFhtXW3B3"
      }
    },
    {
      "cell_type": "markdown",
      "source": [
        "## Best Fit/Model/Approach"
      ],
      "metadata": {
        "id": "V4UuOsdi-mff"
      }
    },
    {
      "cell_type": "code",
      "source": [
        "# Code block(s) for best approach"
      ],
      "metadata": {
        "id": "CWAI5XlM-1WV"
      },
      "execution_count": null,
      "outputs": []
    },
    {
      "cell_type": "markdown",
      "source": [
        "## Initial Model/Approach"
      ],
      "metadata": {
        "id": "zJp6k4Si-xNb"
      }
    },
    {
      "cell_type": "code",
      "source": [
        "# Code block(s) for earlier approach(es)"
      ],
      "metadata": {
        "id": "OsUpMtbf-90a"
      },
      "execution_count": null,
      "outputs": []
    },
    {
      "cell_type": "markdown",
      "source": [
        "##"
      ],
      "metadata": {
        "id": "qmMqZRwn-rHy"
      }
    },
    {
      "cell_type": "markdown",
      "source": [
        "# DISCUSSION\n",
        "\n",
        "This section provides a discussion of the findings of the previous section, including models or approaches that were rejected and why.  \n",
        "\n",
        "**Class assignments** related to the building of this section include:\n",
        "\n",
        "\n",
        "*   Approaches to Background Fitting (Lecture)\n",
        "*   \n",
        "\n"
      ],
      "metadata": {
        "id": "3QvaSunWXAEd"
      }
    }
  ]
}